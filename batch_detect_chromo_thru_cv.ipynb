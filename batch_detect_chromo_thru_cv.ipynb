{
 "cells": [
  {
   "cell_type": "code",
   "execution_count": 93,
   "metadata": {},
   "outputs": [],
   "source": [
    "import os\n",
    "\n",
    "import cv2\n",
    "import numpy as np\n",
    "import matplotlib.pyplot as plt\n",
    "\n",
    "from utils.chromo_cv_utils import cv_imread, cv_imwrite"
   ]
  },
  {
   "cell_type": "code",
   "execution_count": 94,
   "metadata": {},
   "outputs": [],
   "source": [
    "# 读取图片\n",
    "img_dir_fp = 'E:/染色体测试数据/241021-染色体畸变数据-cv办法找染色体'\n",
    "img_lst = []\n",
    "for fn in os.listdir(img_dir_fp):\n",
    "    img_fp = os.path.join(img_dir_fp, fn)\n",
    "    img = cv_imread(img_fp)\n",
    "    img_lst.append(img)"
   ]
  },
  {
   "cell_type": "code",
   "execution_count": 95,
   "metadata": {},
   "outputs": [],
   "source": [
    "# 灰化，二值化\n",
    "gray_lst = [cv2.cvtColor(img, cv2.COLOR_BGR2GRAY) for img in img_lst]\n",
    "_, binary_lst = zip(*[cv2.threshold(gray, 0, 255, cv2.THRESH_BINARY + cv2.THRESH_OTSU) for gray in gray_lst])"
   ]
  },
  {
   "cell_type": "code",
   "execution_count": 96,
   "metadata": {},
   "outputs": [],
   "source": [
    "# # 显示处理后的图片\n",
    "# # 创建3行3列的子图，figsize根据需要调整\n",
    "# fig, axes = plt.subplots(3, 3, figsize=(10,10))\n",
    "\n",
    "# # 遍历图片路径并在每个子图上显示\n",
    "# for i, binary in enumerate(binary_lst):\n",
    "#     row = i // 3  # 计算行索引\n",
    "#     col = i % 3   # 计算列索引\n",
    "#     axes[row, col].imshow(binary)  # 在对应的子图上显示图片\n",
    "#     axes[row, col].axis('off')  # 关闭坐标轴\n",
    "\n",
    "# # 显示所有图片\n",
    "# plt.tight_layout()  # 自动调整子图布局以防止重叠\n",
    "# plt.show()"
   ]
  },
  {
   "cell_type": "code",
   "execution_count": 97,
   "metadata": {},
   "outputs": [],
   "source": [
    "# save images in binary_lst, use save dir as img_dir_fp, and add '_binary' to the file name\n",
    "for i, binary in enumerate(binary_lst):\n",
    "    fp = os.path.join(img_dir_fp, f\"01_{i:02d}_binary.png\")\n",
    "    cv_imwrite(fp, binary)"
   ]
  },
  {
   "cell_type": "code",
   "execution_count": 98,
   "metadata": {},
   "outputs": [
    {
     "name": "stdout",
     "output_type": "stream",
     "text": [
      "Image 0 has less than 10 contours\n",
      "Image 1 has less than 10 contours before filtering\n",
      "Image 1 has less than 10 contours\n",
      "Image 2 has less than 10 contours before filtering\n",
      "Image 2 has less than 10 contours\n",
      "Image 3 has less than 10 contours\n",
      "Image 4 has less than 10 contours before filtering\n",
      "Image 4 has less than 10 contours\n",
      "Image 5 has less than 10 contours before filtering\n",
      "Image 5 has less than 10 contours\n",
      "Image 6 has less than 10 contours before filtering\n",
      "Image 6 has less than 10 contours\n",
      "Image 7 has less than 10 contours\n",
      "Image 8 has less than 10 contours before filtering\n",
      "Image 8 has less than 10 contours\n"
     ]
    }
   ],
   "source": [
    "# 通过轮廓大小去掉小的杂质\n",
    "for i, binary in enumerate(binary_lst):\n",
    "    contours, _ = cv2.findContours(binary, cv2.RETR_EXTERNAL, cv2.CHAIN_APPROX_SIMPLE)\n",
    "    if len(contours) < 10:\n",
    "        print(f\"Image {i} has less than 10 contours before filtering\")\n",
    "    contours = [cnt for cnt in contours if (cv2.contourArea(cnt) > 100 and cv2.contourArea(cnt) < 1000)]\n",
    "    if len(contours) < 10:\n",
    "        print(f\"Image {i} has less than 10 contours\")\n",
    "    mask = np.ones_like(binary) * 255\n",
    "    cv2.drawContours(mask, contours, -1, 0, -1)\n",
    "    fp = os.path.join(img_dir_fp, f\"02_{i:02d}_binary_mask.png\")\n",
    "    cv_imwrite(fp, mask)"
   ]
  }
 ],
 "metadata": {
  "kernelspec": {
   "display_name": "venv",
   "language": "python",
   "name": "python3"
  },
  "language_info": {
   "codemirror_mode": {
    "name": "ipython",
    "version": 3
   },
   "file_extension": ".py",
   "mimetype": "text/x-python",
   "name": "python",
   "nbconvert_exporter": "python",
   "pygments_lexer": "ipython3",
   "version": "3.12.3"
  }
 },
 "nbformat": 4,
 "nbformat_minor": 2
}
